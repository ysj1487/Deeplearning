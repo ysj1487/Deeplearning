{
 "cells": [
  {
   "cell_type": "code",
   "execution_count": 2,
   "metadata": {},
   "outputs": [
    {
     "name": "stdout",
     "output_type": "stream",
     "text": [
      "Collecting nltk\n",
      "  Downloading https://files.pythonhosted.org/packages/87/16/4d247e27c55a7b6412e7c4c86f2500ae61afcbf5932b9e3491f8462f8d9e/nltk-3.4.4.zip (1.5MB)\n",
      "Requirement already satisfied: six in d:\\jungin\\python\\anaconda3.5\\envs\\ml\\lib\\site-packages (from nltk) (1.12.0)\n",
      "Building wheels for collected packages: nltk\n",
      "  Building wheel for nltk (setup.py): started\n",
      "  Building wheel for nltk (setup.py): finished with status 'done'\n",
      "  Stored in directory: C:\\Users\\Home\\AppData\\Local\\pip\\Cache\\wheels\\41\\c8\\31\\48ace4468e236e0e8435f30d33e43df48594e4d53e367cf061\n",
      "Successfully built nltk\n",
      "Installing collected packages: nltk\n",
      "Successfully installed nltk-3.4.4\n",
      "Note: you may need to restart the kernel to use updated packages.\n"
     ]
    }
   ],
   "source": [
    "pip install nltk "
   ]
  },
  {
   "cell_type": "code",
   "execution_count": 10,
   "metadata": {},
   "outputs": [
    {
     "name": "stdout",
     "output_type": "stream",
     "text": [
      "showing info https://raw.githubusercontent.com/nltk/nltk_data/gh-pages/index.xml\n"
     ]
    },
    {
     "data": {
      "text/plain": [
       "True"
      ]
     },
     "execution_count": 10,
     "metadata": {},
     "output_type": "execute_result"
    }
   ],
   "source": [
    "import nltk\n",
    "nltk.download() "
   ]
  },
  {
   "cell_type": "markdown",
   "metadata": {},
   "source": [
    "## Word_tokenize"
   ]
  },
  {
   "cell_type": "code",
   "execution_count": 12,
   "metadata": {},
   "outputs": [
    {
     "name": "stdout",
     "output_type": "stream",
     "text": [
      "['I', 'am', 'going', 'to', 'Seoul', ',', 'Korea', '.']\n",
      "[('I', 'PRP'), ('am', 'VBP'), ('going', 'VBG'), ('to', 'TO'), ('Seoul', 'NNP'), (',', ','), ('Korea', 'NNP'), ('.', '.')]\n"
     ]
    }
   ],
   "source": [
    "from nltk import word_tokenize\n",
    " \n",
    "tokens =  word_tokenize(\"I am going to Seoul, Korea.\")\n",
    "print( tokens )\n",
    "print( nltk.pos_tag(tokens) )"
   ]
  },
  {
   "cell_type": "code",
   "execution_count": 16,
   "metadata": {},
   "outputs": [
    {
     "name": "stdout",
     "output_type": "stream",
     "text": [
      "['At', 'eight', \"o'clock\", 'on', 'Thursday', 'morning', 'Arthur', 'did', \"n't\", 'feel', 'very', 'good', '.']\n",
      "[('At', 'IN'), ('eight', 'CD'), (\"o'clock\", 'NN'), ('on', 'IN'), ('Thursday', 'NNP'), ('morning', 'NN'), ('Arthur', 'NNP'), ('did', 'VBD'), (\"n't\", 'RB'), ('feel', 'VB'), ('very', 'RB'), ('good', 'JJ'), ('.', '.')]\n"
     ]
    }
   ],
   "source": [
    "sentence = \"\"\"At eight o'clock on Thursday morning Arthur didn't feel very good.\"\"\"\n",
    "tokens =  word_tokenize(sentence)\n",
    "print( tokens )\n",
    "print( nltk.pos_tag(tokens) )"
   ]
  },
  {
   "cell_type": "markdown",
   "metadata": {},
   "source": [
    "## Tokenize of sentence"
   ]
  },
  {
   "cell_type": "code",
   "execution_count": 11,
   "metadata": {},
   "outputs": [],
   "source": [
    "from nltk import sent_tokenize "
   ]
  },
  {
   "cell_type": "code",
   "execution_count": 17,
   "metadata": {},
   "outputs": [
    {
     "name": "stdout",
     "output_type": "stream",
     "text": [
      "[\"London (CNN)Boris Johnson, the UK's new prime minister, wants you to know that he loves his country.\", 'Specifically, he wants you to know that he loves the Union between the four nations that make up the United Kingdom of Great Britain and Northern Ireland.', 'Unfortunately for Johnson, this love is not always reciprocated.', 'During his visits to the four nations earlier this week, Johnson was confronted by a number of protesters who took issue with his \"do or die\" approach to Brexit.', 'Johnson has not been coy about his commitment to leaving the EU on October 31.', \"And he's made it perfectly clear he would do so without a deal.\", 'In Scotland, he was booed by pro-European and pro-Scottish independence supporters.', 'Nicola Sturgeon, Scotland\\'s First Minister and leader of the pro-Independence Scottish National Party, told local media that Johnson didn\\'t have the \"guts\" to face Scottish people during his visit.']\n"
     ]
    }
   ],
   "source": [
    "paragraph=\"\"\"London (CNN)Boris Johnson, the UK's new prime minister, wants you to know that he loves his country.\n",
    "Specifically, he wants you to know that he loves the Union between the four nations that make up the United Kingdom of Great Britain and Northern Ireland.\n",
    "Unfortunately for Johnson, this love is not always reciprocated. During his visits to the four nations earlier this week, Johnson was confronted by a number of protesters who took issue with his \"do or die\" approach to Brexit. Johnson has not been coy about his commitment to leaving the EU on October 31. And he's made it perfectly clear he would do so without a deal.\n",
    "In Scotland, he was booed by pro-European and pro-Scottish independence supporters. Nicola Sturgeon, Scotland's First Minister and leader of the pro-Independence Scottish National Party, told local media that Johnson didn't have the \"guts\" to face Scottish people during his visit. \"\"\"\n",
    "\n",
    "print ( sent_tokenize(paragraph))"
   ]
  },
  {
   "cell_type": "code",
   "execution_count": null,
   "metadata": {},
   "outputs": [],
   "source": []
  }
 ],
 "metadata": {
  "kernelspec": {
   "display_name": "Python 3",
   "language": "python",
   "name": "python3"
  },
  "language_info": {
   "codemirror_mode": {
    "name": "ipython",
    "version": 3
   },
   "file_extension": ".py",
   "mimetype": "text/x-python",
   "name": "python",
   "nbconvert_exporter": "python",
   "pygments_lexer": "ipython3",
   "version": "3.7.3"
  }
 },
 "nbformat": 4,
 "nbformat_minor": 4
}
