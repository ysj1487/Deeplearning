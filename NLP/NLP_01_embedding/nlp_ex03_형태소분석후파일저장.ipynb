{
 "cells": [
  {
   "cell_type": "code",
   "execution_count": 1,
   "metadata": {},
   "outputs": [],
   "source": [
    "import codecs # 대용량 자료를 읽어들일때 사용\n",
    "from konlpy.tag import Okt\n",
    "\n",
    "readFp = codecs.open(\"CorpusFile/wiki.txt\", \"r\" , encoding=\"utf-8\")\n",
    "ma = \"CorpusFile/wiki.m\""
   ]
  },
  {
   "cell_type": "code",
   "execution_count": 3,
   "metadata": {},
   "outputs": [
    {
     "data": {
      "text/plain": [
       "<codecs.StreamReaderWriter at 0x1c801fbcdd8>"
      ]
     },
     "execution_count": 3,
     "metadata": {},
     "output_type": "execute_result"
    }
   ],
   "source": [
    "readFp"
   ]
  },
  {
   "cell_type": "code",
   "execution_count": 2,
   "metadata": {},
   "outputs": [],
   "source": [
    "writeFp = open(ma , \"w\", encoding=\"utf-8\")"
   ]
  },
  {
   "cell_type": "code",
   "execution_count": null,
   "metadata": {},
   "outputs": [],
   "source": [
    "# 형태소 분석\n",
    "twitter = Okt()\n",
    "i = 0\n",
    "\n",
    "while True:\n",
    "    line = readFp.readline()\n",
    "    if not line: break\n",
    "\n",
    "    if i % 20000 == 0:\n",
    "        print(\"current - \" + str(i)) #100라인에 한번씩 출력\n",
    "    i += 1\n",
    "\n",
    "    malist = twitter.pos(line, norm=True, stem=True)\n",
    "\n",
    "    r = []\n",
    "    for word in malist:\n",
    "                   # 조사/어미/구두점 등은 대상에서 제외\n",
    "        if not word[1] in [\"Josa\", \"Eomi\", \"Punctuation\"]:\n",
    "            writeFp.write(word[0] + \" \")\n",
    "        \n",
    "        \n",
    "        if word[1] in [\"Noun\"]:\n",
    "            writeFp.write(word[0] + \" \")\n",
    "\n",
    "writeFp.close() "
   ]
  }
 ],
 "metadata": {
  "kernelspec": {
   "display_name": "Python 3",
   "language": "python",
   "name": "python3"
  },
  "language_info": {
   "codemirror_mode": {
    "name": "ipython",
    "version": 3
   },
   "file_extension": ".py",
   "mimetype": "text/x-python",
   "name": "python",
   "nbconvert_exporter": "python",
   "pygments_lexer": "ipython3",
   "version": "3.7.3"
  }
 },
 "nbformat": 4,
 "nbformat_minor": 4
}
