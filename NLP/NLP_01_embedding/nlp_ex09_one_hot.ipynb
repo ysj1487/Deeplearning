{
 "cells": [
  {
   "cell_type": "code",
   "execution_count": 96,
   "metadata": {},
   "outputs": [],
   "source": [
    "\"\"\"케라스를 사용한 단어 수준의 원-핫 인코딩\"\"\"\n",
    "\n",
    "from keras.preprocessing.text import Tokenizer\n",
    "samples = ['The cat sat on The mat dog The', 'The dog ate my homework my the the dog']"
   ]
  },
  {
   "cell_type": "code",
   "execution_count": 97,
   "metadata": {},
   "outputs": [],
   "source": [
    "# 가장 빈도가 높은 1,000개의 단어만 선택하도록 Tokenizer 객체 생성\n",
    "tokenizer = Tokenizer(num_words = 100)"
   ]
  },
  {
   "cell_type": "code",
   "execution_count": 98,
   "metadata": {},
   "outputs": [],
   "source": [
    "# 단어 인덱스를 구축\n",
    "tokenizer.fit_on_texts(samples)"
   ]
  },
  {
   "cell_type": "code",
   "execution_count": 99,
   "metadata": {},
   "outputs": [
    {
     "name": "stdout",
     "output_type": "stream",
     "text": [
      "index_word : {1: 'the', 2: 'dog', 3: 'my', 4: 'cat', 5: 'sat', 6: 'on', 7: 'mat', 8: 'ate', 9: 'homework'}\n"
     ]
    }
   ],
   "source": [
    "print(\"index_word :\" , tokenizer.index_word )"
   ]
  },
  {
   "cell_type": "code",
   "execution_count": 100,
   "metadata": {},
   "outputs": [
    {
     "name": "stdout",
     "output_type": "stream",
     "text": [
      "word_index : {'the': 1, 'dog': 2, 'my': 3, 'cat': 4, 'sat': 5, 'on': 6, 'mat': 7, 'ate': 8, 'homework': 9}\n"
     ]
    }
   ],
   "source": [
    "print(\"word_index :\" , tokenizer.word_index )"
   ]
  },
  {
   "cell_type": "code",
   "execution_count": 101,
   "metadata": {},
   "outputs": [
    {
     "name": "stdout",
     "output_type": "stream",
     "text": [
      "단어 출현 빈도수 :  defaultdict(<class 'int'>, {2: 2, 6: 1, 7: 1, 5: 1, 1: 2, 4: 1, 9: 1, 3: 1, 8: 1})\n"
     ]
    }
   ],
   "source": [
    "print(\"단어 출현 빈도수 : \" , tokenizer.index_docs) #단어 빈도수"
   ]
  },
  {
   "cell_type": "code",
   "execution_count": 82,
   "metadata": {},
   "outputs": [
    {
     "name": "stdout",
     "output_type": "stream",
     "text": [
      "문장 수 :  2\n"
     ]
    }
   ],
   "source": [
    "print(\"문장 수 : \" , tokenizer.document_count) #문장 수"
   ]
  },
  {
   "cell_type": "code",
   "execution_count": 69,
   "metadata": {},
   "outputs": [
    {
     "name": "stdout",
     "output_type": "stream",
     "text": [
      "sequences [[1, 4, 5, 6, 1, 7, 1], [1, 2, 8, 3, 9, 3, 1, 1, 2]]\n"
     ]
    }
   ],
   "source": [
    "# 문자열을 정수 인덱스의 리스트로 변환\n",
    "sequences = tokenizer.texts_to_sequences(samples)\n",
    "print(\"sequences\",  sequences  )"
   ]
  },
  {
   "cell_type": "code",
   "execution_count": 61,
   "metadata": {},
   "outputs": [
    {
     "data": {
      "text/plain": [
       "defaultdict(int, {5: 1, 6: 1, 4: 1, 1: 2, 3: 1, 7: 1, 9: 1, 2: 1, 8: 1})"
      ]
     },
     "execution_count": 61,
     "metadata": {},
     "output_type": "execute_result"
    }
   ],
   "source": [
    "tokenizer.index_docs"
   ]
  },
  {
   "cell_type": "code",
   "execution_count": 62,
   "metadata": {},
   "outputs": [
    {
     "name": "stdout",
     "output_type": "stream",
     "text": [
      "one_hot_results [[0. 1. 0. ... 0. 0. 0.]\n",
      " [0. 1. 1. ... 0. 0. 0.]]\n"
     ]
    }
   ],
   "source": [
    "# 원-핫 이진 벡터 표현\n",
    "one_hot_results = tokenizer.texts_to_matrix(samples, mode = 'binary')\n",
    "print( \"one_hot_results\", one_hot_results  )"
   ]
  },
  {
   "cell_type": "code",
   "execution_count": null,
   "metadata": {},
   "outputs": [],
   "source": []
  }
 ],
 "metadata": {
  "kernelspec": {
   "display_name": "Python 3",
   "language": "python",
   "name": "python3"
  },
  "language_info": {
   "codemirror_mode": {
    "name": "ipython",
    "version": 3
   },
   "file_extension": ".py",
   "mimetype": "text/x-python",
   "name": "python",
   "nbconvert_exporter": "python",
   "pygments_lexer": "ipython3",
   "version": "3.7.3"
  }
 },
 "nbformat": 4,
 "nbformat_minor": 4
}
