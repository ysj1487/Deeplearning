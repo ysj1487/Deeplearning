{
 "cells": [
  {
   "cell_type": "code",
   "execution_count": 1,
   "metadata": {},
   "outputs": [],
   "source": [
    "import matplotlib.pyplot as plt\n",
    "from wordcloud import WordCloud, STOPWORDS\n",
    "from collections import Counter"
   ]
  },
  {
   "cell_type": "code",
   "execution_count": 8,
   "metadata": {},
   "outputs": [
    {
     "data": {
      "text/plain": [
       "['명사',\n",
       " '나',\n",
       " '대전',\n",
       " 'AI',\n",
       " '대전',\n",
       " '대전',\n",
       " '대전',\n",
       " '대전학교',\n",
       " '월요일',\n",
       " '월요일',\n",
       " '월요일',\n",
       " '수요일',\n",
       " '수요일',\n",
       " '수요일',\n",
       " '수요일',\n",
       " '한국',\n",
       " '한국',\n",
       " 'AI',\n",
       " 'AI',\n",
       " 'AI']"
      ]
     },
     "execution_count": 8,
     "metadata": {},
     "output_type": "execute_result"
    }
   ],
   "source": [
    "nouns =['명사', '나', '대전', 'AI',  '대전', '대전',  '대전',  '대전' '학교', '월요일', '월요일', '월요일',\n",
    "        '수요일', '수요일', '수요일', '수요일',\"한국\",\"한국\", \"AI\", \"AI\", \"AI\"]\n",
    "nouns"
   ]
  },
  {
   "cell_type": "code",
   "execution_count": 9,
   "metadata": {},
   "outputs": [],
   "source": [
    "nouns =[ n for n in nouns if len(n) > 1]  # 2글자 이상만"
   ]
  },
  {
   "cell_type": "code",
   "execution_count": 10,
   "metadata": {},
   "outputs": [
    {
     "name": "stdout",
     "output_type": "stream",
     "text": [
      "단어별 빈도수 딕셔너리 Counter({'대전': 4, 'AI': 4, '수요일': 4, '월요일': 3, '한국': 2, '명사': 1, '대전학교': 1})\n"
     ]
    }
   ],
   "source": [
    "count=Counter(nouns)        #단어별 빈도수를 가진 딕셔너리를 만들어줌.\n",
    "print(\"단어별 빈도수 딕셔너리\", count)"
   ]
  },
  {
   "cell_type": "code",
   "execution_count": 14,
   "metadata": {},
   "outputs": [
    {
     "name": "stdout",
     "output_type": "stream",
     "text": [
      "가장 많이 나타나는 5개 [('대전', 4), ('AI', 4), ('수요일', 4), ('월요일', 3), ('한국', 2)]\n"
     ]
    }
   ],
   "source": [
    "tags=count.most_common(5)  #가장 많이 나타나는 3개\n",
    "print(\"가장 많이 나타나는 5개\", tags)"
   ]
  },
  {
   "cell_type": "code",
   "execution_count": 15,
   "metadata": {},
   "outputs": [],
   "source": [
    "wordcloud = WordCloud(max_font_size=200,font_path='c:/Windows/fonts/malgun.ttf',\n",
    "                      background_color='#FFFFFF',\n",
    "                      max_words = 2000,\n",
    "                      colormap=\"spring_r\",\n",
    "                      width=1200,height=800).generate_from_frequencies(dict(tags))"
   ]
  },
  {
   "cell_type": "code",
   "execution_count": 16,
   "metadata": {},
   "outputs": [
    {
     "data": {
      "image/png": "[encoded data removed]",
      "text/plain": [
       "<Figure size 720x576 with 1 Axes>"
      ]
     },
     "metadata": {
      "needs_background": "light"
     },
     "output_type": "display_data"
    }
   ],
   "source": [
    "plt.figure(figsize=(10,8))\n",
    "plt.imshow(wordcloud)\n",
    "plt.tight_layout(pad=0)\n",
    "plt.axis('off')\n",
    "\n",
    "plt.savefig('wordcloud_image5.png', bbox_inches='tight')\n",
    "plt.show()"
   ]
  },
  {
   "cell_type": "code",
   "execution_count": null,
   "metadata": {},
   "outputs": [],
   "source": []
  },
  {
   "cell_type": "code",
   "execution_count": null,
   "metadata": {},
   "outputs": [],
   "source": []
  }
 ],
 "metadata": {
  "kernelspec": {
   "display_name": "Python 3",
   "language": "python",
   "name": "python3"
  },
  "language_info": {
   "codemirror_mode": {
    "name": "ipython",
    "version": 3
   },
   "file_extension": ".py",
   "mimetype": "text/x-python",
   "name": "python",
   "nbconvert_exporter": "python",
   "pygments_lexer": "ipython3",
   "version": "3.7.3"
  }
 },
 "nbformat": 4,
 "nbformat_minor": 4
}
