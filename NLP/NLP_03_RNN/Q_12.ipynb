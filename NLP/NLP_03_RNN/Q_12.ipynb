{
 "cells": [
  {
   "cell_type": "code",
   "execution_count": null,
   "metadata": {},
   "outputs": [],
   "source": [
    "# 8,982개의 훈련 샘플과 2,246개의 테스트 샘플이 있습니다:\n",
    "# IMDB 영화 리뷰처럼 각 샘플은 정수 리스트입니다(단어 인덱스): \n",
    "\n",
    "# Mission : 벡터 입력을  46개의  토픽 클래스로 분류하는 신경망을 만들어 보십시요.  \n",
    "# 단, 다음 방법을  사용하여 보십시요.  \n",
    "\n",
    "# 1.\tEmbedding과 RNN 활용. "
   ]
  },
  {
   "cell_type": "code",
   "execution_count": 2,
   "metadata": {},
   "outputs": [],
   "source": [
    "# import module\n",
    "from keras.datasets import reuters\n",
    "from keras.layers import Embedding, SimpleRNN\n",
    "from keras.layers import Dense\n",
    "from keras.models import Sequential\n",
    "from keras.datasets import imdb\n",
    "from keras.preprocessing import sequence"
   ]
  },
  {
   "cell_type": "code",
   "execution_count": 3,
   "metadata": {},
   "outputs": [],
   "source": [
    "#data loading\n",
    "(train_data, train_labels), (test_data, test_labels) = reuters.load_data(num_words=10000)"
   ]
  },
  {
   "cell_type": "code",
   "execution_count": 6,
   "metadata": {},
   "outputs": [],
   "source": [
    "#sequences pad\n",
    "train_data = sequence.pad_sequences(train_data, maxlen = 8982)\n",
    "test_data = sequence.pad_sequences(test_data, maxlen = 2246)"
   ]
  },
  {
   "cell_type": "code",
   "execution_count": 7,
   "metadata": {},
   "outputs": [
    {
     "name": "stdout",
     "output_type": "stream",
     "text": [
      "WARNING:tensorflow:From C:\\Users\\ysj14\\AppData\\Local\\Continuum\\anaconda3\\lib\\site-packages\\tensorflow\\python\\framework\\op_def_library.py:263: colocate_with (from tensorflow.python.framework.ops) is deprecated and will be removed in a future version.\n",
      "Instructions for updating:\n",
      "Colocations handled automatically by placer.\n"
     ]
    }
   ],
   "source": [
    "#Model\n",
    "model = Sequential()\n",
    "model.add(Embedding(10000, 46))\n",
    "model.add(SimpleRNN(46))\n",
    "model.add(Dense(1, activation = 'sigmoid'))\n",
    "\n",
    "model.compile(optimizer='rmsprop', loss='binary_crossentropy', metrics=['acc'])"
   ]
  },
  {
   "cell_type": "code",
   "execution_count": 8,
   "metadata": {},
   "outputs": [
    {
     "name": "stdout",
     "output_type": "stream",
     "text": [
      "WARNING:tensorflow:From C:\\Users\\ysj14\\AppData\\Local\\Continuum\\anaconda3\\lib\\site-packages\\tensorflow\\python\\ops\\math_ops.py:3066: to_int32 (from tensorflow.python.ops.math_ops) is deprecated and will be removed in a future version.\n",
      "Instructions for updating:\n",
      "Use tf.cast instead.\n",
      "Train on 7185 samples, validate on 1797 samples\n",
      "Epoch 1/10\n",
      "7185/7185 [==============================] - 470s 65ms/step - loss: -48.3476 - acc: 0.0483 - val_loss: -75.5573 - val_acc: 0.0456\n",
      "Epoch 2/10\n",
      "7185/7185 [==============================] - 270s 38ms/step - loss: -86.9392 - acc: 0.0487 - val_loss: -100.2996 - val_acc: 0.0456\n",
      "Epoch 3/10\n",
      "7185/7185 [==============================] - 272s 38ms/step - loss: -109.6194 - acc: 0.0487 - val_loss: -121.5059 - val_acc: 0.0456\n",
      "Epoch 4/10\n",
      "7185/7185 [==============================] - 270s 38ms/step - loss: -124.8984 - acc: 0.0487 - val_loss: -127.0156 - val_acc: 0.0456\n",
      "Epoch 5/10\n",
      "7185/7185 [==============================] - 271s 38ms/step - loss: -125.3801 - acc: 0.0487 - val_loss: -127.0156 - val_acc: 0.0456\n",
      "Epoch 6/10\n",
      "7185/7185 [==============================] - 845s 118ms/step - loss: -125.3801 - acc: 0.0487 - val_loss: -127.0156 - val_acc: 0.0456\n",
      "Epoch 7/10\n",
      "7185/7185 [==============================] - 273s 38ms/step - loss: -125.3801 - acc: 0.0487 - val_loss: -127.0156 - val_acc: 0.0456\n",
      "Epoch 8/10\n",
      "7185/7185 [==============================] - 9583s 1s/step - loss: -125.3801 - acc: 0.0487 - val_loss: -127.0156 - val_acc: 0.0456\n",
      "Epoch 9/10\n",
      "7185/7185 [==============================] - 267s 37ms/step - loss: -125.3801 - acc: 0.0487 - val_loss: -127.0156 - val_acc: 0.0456\n",
      "Epoch 10/10\n",
      "7185/7185 [==============================] - 270s 38ms/step - loss: -125.3801 - acc: 0.0487 - val_loss: -127.0156 - val_acc: 0.0456\n"
     ]
    }
   ],
   "source": [
    "#Training\n",
    "history = model.fit(train_data, train_labels,\n",
    "                   epochs = 10,\n",
    "                   batch_size = 128,\n",
    "                   validation_split = 0.2)"
   ]
  },
  {
   "cell_type": "code",
   "execution_count": 10,
   "metadata": {},
   "outputs": [
    {
     "data": {
      "image/png": "[encoded data removed]",
      "text/plain": [
       "<Figure size 432x288 with 1 Axes>"
      ]
     },
     "metadata": {
      "needs_background": "light"
     },
     "output_type": "display_data"
    },
    {
     "data": {
      "image/png": "[encoded data removed]",
      "text/plain": [
       "<Figure size 432x288 with 1 Axes>"
      ]
     },
     "metadata": {
      "needs_background": "light"
     },
     "output_type": "display_data"
    }
   ],
   "source": [
    "import matplotlib.pyplot as plt\n",
    "\n",
    "acc = history.history['acc']\n",
    "val_acc = history.history['val_acc']\n",
    "loss = history.history['loss']\n",
    "val_loss = history.history['val_loss']\n",
    "epochs = range(1, len(acc) + 1)\n",
    "\n",
    "plt.plot(epochs, acc, 'bo', label='Training acc')\n",
    "plt.plot(epochs, val_acc, 'b', label='Validation acc')\n",
    "plt.title('Training and validation accuracy')\n",
    "plt.legend()\n",
    "plt.figure()\n",
    "\n",
    "plt.plot(epochs, loss, 'bo', label='Training loss')\n",
    "plt.plot(epochs, val_loss, 'b', label='Validation loss')\n",
    "plt.title('Training and validation loss')\n",
    "plt.legend()\n",
    "plt.show()"
   ]
  },
  {
   "cell_type": "code",
   "execution_count": null,
   "metadata": {},
   "outputs": [],
   "source": []
  }
 ],
 "metadata": {
  "kernelspec": {
   "display_name": "Python 3",
   "language": "python",
   "name": "python3"
  },
  "language_info": {
   "codemirror_mode": {
    "name": "ipython",
    "version": 3
   },
   "file_extension": ".py",
   "mimetype": "text/x-python",
   "name": "python",
   "nbconvert_exporter": "python",
   "pygments_lexer": "ipython3",
   "version": "3.7.3"
  }
 },
 "nbformat": 4,
 "nbformat_minor": 2
}
