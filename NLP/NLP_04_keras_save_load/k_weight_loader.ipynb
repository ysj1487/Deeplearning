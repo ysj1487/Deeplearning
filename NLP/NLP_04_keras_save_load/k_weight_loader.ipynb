{
 "cells": [
  {
   "cell_type": "code",
   "execution_count": null,
   "metadata": {},
   "outputs": [],
   "source": [
    "import keras\n",
    "import numpy\n",
    "x = numpy.array([0, 1, 2, 3, 4])\n",
    "model = keras.models.Sequential()\n",
    "model.add(keras.layers.Dense(1, input_shape=(1,)))\n",
    "model.compile('SGD', 'mse')\n",
    "\n",
    "#TODO (\"k_model\")\n",
    "print('Predictions:', model.predict(x).flatten()) # 예측 결과\n",
    "\n",
    "\n"
   ]
  }
 ],
 "metadata": {
  "kernelspec": {
   "display_name": "Python 3",
   "language": "python",
   "name": "python3"
  },
  "language_info": {
   "codemirror_mode": {
    "name": "ipython",
    "version": 3
   },
   "file_extension": ".py",
   "mimetype": "text/x-python",
   "name": "python",
   "nbconvert_exporter": "python",
   "pygments_lexer": "ipython3",
   "version": "3.6.7"
  }
 },
 "nbformat": 4,
 "nbformat_minor": 2
}
