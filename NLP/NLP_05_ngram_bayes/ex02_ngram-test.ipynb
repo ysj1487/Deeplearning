{
 "cells": [
  {
   "cell_type": "code",
   "execution_count": null,
   "metadata": {},
   "outputs": [],
   "source": [
    "def ngram(s, num):\n",
    "    res = []\n",
    "    slen = len(s) - num + 1\n",
    "    for i in range(slen):\n",
    "        ss = s[i:i+num]\n",
    "        res.append(ss)\n",
    "    return res\n",
    "\n",
    "def diff_ngram(sa, sb, num):\n",
    "    a = #TODO (sa, num)\n",
    "    b = #TODO (sb, num)\n",
    "    r = []\n",
    "    cnt = 0\n",
    "    for i in a:\n",
    "        for j in b:\n",
    "            if  #TODO:\n",
    "                #TODO \n",
    "                r.append(i)\n",
    "    return #TODO , r\n",
    "\n",
    "\n",
    "a = \"오늘 지중해마을에서 맛있는 스파게티를 먹었다.\"\n",
    "b = \"지중해마을에서 먹었던 오늘의 스파게티는 맛있었다.\""
   ]
  },
  {
   "cell_type": "code",
   "execution_count": null,
   "metadata": {},
   "outputs": [],
   "source": [
    "# 2-gram\n",
    "r2, word2 = diff_ngram(a, b, 2)\n",
    "print(\"2-gram:\", r2, word2)\n",
    "\n",
    "# 3-gram\n",
    "r3, word3  = diff_ngram(a, b, 3)\n",
    "print(\"3-gram:\", r3, word3)\n"
   ]
  }
 ],
 "metadata": {
  "kernelspec": {
   "display_name": "Python 3",
   "language": "python",
   "name": "python3"
  },
  "language_info": {
   "codemirror_mode": {
    "name": "ipython",
    "version": 3
   },
   "file_extension": ".py",
   "mimetype": "text/x-python",
   "name": "python",
   "nbconvert_exporter": "python",
   "pygments_lexer": "ipython3",
   "version": "3.6.7"
  }
 },
 "nbformat": 4,
 "nbformat_minor": 2
}
