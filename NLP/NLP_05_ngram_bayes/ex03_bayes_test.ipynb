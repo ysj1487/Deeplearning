{
 "cells": [
  {
   "cell_type": "code",
   "execution_count": null,
   "metadata": {},
   "outputs": [],
   "source": [
    "from ex03_bayes import BayesianFilter\n",
    "bf = #TODO() \n",
    "\n",
    "# 텍스트 학습\n",
    "bf.#TODO(\"12월 특가호텔 최저가 예약하고 네이버페이 포인트 최대 1만원 적립 받자!\", \"광고\")\n",
    "bf.fit(\"천 만원 당첨응모권 도착\", \"광고\")\n",
    "bf.fit(\"홈스토리생활_ 귀차니스트들을 위한 스피드 청소!\", \"광고\")\n",
    "bf.fit(\"봄과 함께 찾아온 따뜻한 신제품 소식\", \"광고\")\n",
    "bf.fit(\"인기 제품 기간 한정 세일 무료 배송\", \"광고\")\n",
    "bf.fit(\"오늘 일정 확인\", \"중요\")\n",
    "bf.fit(\"프로젝트 진행 상황 보고\",\"중요\")\n",
    "bf.fit(\"계약 잘 부탁드립니다\",\"중요\")\n",
    "bf.fit(\"회의 일정이 등록되었습니다.\",\"중요\")\n",
    "bf.fit(\"오늘 일정이 없습니다.\",\"중요\")\n",
    "bf.fit(\"주간 보고서입니다.\",\"중요\")\n",
    "bf.fit(\"계약서 검토 부탁드립니다.\",\"중요\")\n",
    "bf.fit(\"출력물 요청\",\"중요\")\n",
    "bf.fit(\"[대한항공] 시드니 항공권 구매 이벤트! 놓치지 마세요\", \"광고\")\n",
    "\n",
    "# 예측\n",
    "pre, scorelist = bf.#TODO(\"재고 정리 세일, 무료 배송\")\n",
    "print(\"결과 =\", pre)\n",
    "print(scorelist)\n",
    "\n"
   ]
  }
 ],
 "metadata": {
  "kernelspec": {
   "display_name": "Python 3",
   "language": "python",
   "name": "python3"
  },
  "language_info": {
   "codemirror_mode": {
    "name": "ipython",
    "version": 3
   },
   "file_extension": ".py",
   "mimetype": "text/x-python",
   "name": "python",
   "nbconvert_exporter": "python",
   "pygments_lexer": "ipython3",
   "version": "3.6.7"
  }
 },
 "nbformat": 4,
 "nbformat_minor": 2
}
