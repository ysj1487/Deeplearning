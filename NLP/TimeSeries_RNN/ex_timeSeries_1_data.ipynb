{
 "cells": [
  {
   "cell_type": "code",
   "execution_count": 1,
   "metadata": {},
   "outputs": [],
   "source": [
    "import numpy as np\n",
    "import matplotlib.pyplot as plt\n",
    "from scipy.linalg import toeplitz\n",
    "np.random.seed(0)"
   ]
  },
  {
   "cell_type": "code",
   "execution_count": 4,
   "metadata": {},
   "outputs": [],
   "source": [
    "def make_data( showGraph=False ) :\n",
    "    rawdata = np.sin(2 * np.pi * 0.125 * np.arange(20))\n",
    "\n",
    "    if showGraph :\n",
    "        print( \"rawdata \", rawdata)\n",
    "        plt.plot(rawdata, 'ro-')\n",
    "        plt.xlim(-0.5, 20.5)\n",
    "        plt.ylim(-1.1, 1.1)\n",
    "        plt.show()"
   ]
  },
  {
   "cell_type": "code",
   "execution_count": 5,
   "metadata": {},
   "outputs": [
    {
     "ename": "NameError",
     "evalue": "name 'rawdata' is not defined",
     "output_type": "error",
     "traceback": [
      "\u001b[1;31m---------------------------------------------------------------------------\u001b[0m",
      "\u001b[1;31mNameError\u001b[0m                                 Traceback (most recent call last)",
      "\u001b[1;32m<ipython-input-5-33f80194c93c>\u001b[0m in \u001b[0;36m<module>\u001b[1;34m\u001b[0m\n\u001b[0;32m     13\u001b[0m \u001b[1;31m#     \"\"\"\u001b[0m\u001b[1;33m\u001b[0m\u001b[1;33m\u001b[0m\u001b[1;33m\u001b[0m\u001b[0m\n\u001b[0;32m     14\u001b[0m \u001b[1;33m\u001b[0m\u001b[0m\n\u001b[1;32m---> 15\u001b[1;33m \u001b[0mData\u001b[0m \u001b[1;33m=\u001b[0m \u001b[0mnp\u001b[0m\u001b[1;33m.\u001b[0m\u001b[0mfliplr\u001b[0m\u001b[1;33m(\u001b[0m\u001b[0mtoeplitz\u001b[0m\u001b[1;33m(\u001b[0m\u001b[0mnp\u001b[0m\u001b[1;33m.\u001b[0m\u001b[0mr_\u001b[0m\u001b[1;33m[\u001b[0m\u001b[0mrawdata\u001b[0m\u001b[1;33m[\u001b[0m\u001b[1;33m-\u001b[0m\u001b[1;36m1\u001b[0m\u001b[1;33m]\u001b[0m\u001b[1;33m,\u001b[0m \u001b[0mnp\u001b[0m\u001b[1;33m.\u001b[0m\u001b[0mzeros\u001b[0m\u001b[1;33m(\u001b[0m\u001b[0mrawdata\u001b[0m\u001b[1;33m.\u001b[0m\u001b[0mshape\u001b[0m\u001b[1;33m[\u001b[0m\u001b[1;36m0\u001b[0m\u001b[1;33m]\u001b[0m \u001b[1;33m-\u001b[0m \u001b[1;36m2\u001b[0m\u001b[1;33m)\u001b[0m\u001b[1;33m]\u001b[0m\u001b[1;33m,\u001b[0m \u001b[0mrawdata\u001b[0m\u001b[1;33m[\u001b[0m\u001b[1;33m:\u001b[0m\u001b[1;33m:\u001b[0m\u001b[1;33m-\u001b[0m\u001b[1;36m1\u001b[0m\u001b[1;33m]\u001b[0m\u001b[1;33m)\u001b[0m\u001b[1;33m)\u001b[0m\u001b[1;33m\u001b[0m\u001b[1;33m\u001b[0m\u001b[0m\n\u001b[0m\u001b[0;32m     16\u001b[0m \u001b[0mprint\u001b[0m\u001b[1;33m(\u001b[0m\u001b[1;34m\"Data\"\u001b[0m\u001b[1;33m,\u001b[0m \u001b[0mData\u001b[0m\u001b[1;33m)\u001b[0m\u001b[1;33m\u001b[0m\u001b[1;33m\u001b[0m\u001b[0m\n\u001b[0;32m     17\u001b[0m \u001b[0mprint\u001b[0m\u001b[1;33m(\u001b[0m\u001b[0mData\u001b[0m\u001b[1;33m.\u001b[0m\u001b[0mshape\u001b[0m\u001b[1;33m)\u001b[0m\u001b[1;33m\u001b[0m\u001b[1;33m\u001b[0m\u001b[0m\n",
      "\u001b[1;31mNameError\u001b[0m: name 'rawdata' is not defined"
     ]
    }
   ],
   "source": [
    "#     \"\"\"\n",
    "#     Keras 에서 RNN 을 사용하려면 입력 데이터는 \n",
    "#     (nb_samples, timesteps, input_dim) 크기를 가지는 \n",
    "#     ndim=3인 3차원 텐서(tensor) 형태이어야 한다.\n",
    "\n",
    "#     nb_samples: 자료의 수\n",
    "#     timesteps: 순서열의 길이\n",
    "#     input_dim: x 벡터의 크기\n",
    "#     여기에서는 단일 시계열이므로 input_dim = 1 이고 \n",
    "#     3 스텝 크기의 순서열을 사용하므로 timesteps = 3 이며 자료의 수는 18 개이다.\n",
    "\n",
    "#     다음코드와 같이 원래의 시계열 벡터를 Toeplitz 행렬 형태로 변환하여 3차원 텐서를 만든다.\n",
    "#     \"\"\"\n",
    "\n",
    "Data = np.fliplr(toeplitz(np.r_[rawdata[-1], np.zeros(rawdata.shape[0] - 2)], rawdata[::-1]))\n",
    "print(\"Data\", Data)\n",
    "print(Data.shape)"
   ]
  },
  {
   "cell_type": "code",
   "execution_count": null,
   "metadata": {},
   "outputs": [],
   "source": [
    "X_train = Data[:-1, :3][:, :, np.newaxis]\n",
    "Y_train = Data[:-1, 3]\n",
    "print(\"X_train.shape, Y_train.shape  = \", X_train.shape, Y_train.shape )\n",
    "print(\"X_train[0], Y_train[0]  = \", X_train[0], Y_train[0])\n",
    "\n",
    "    if showGraph:\n",
    "        plt.subplot(211)\n",
    "        plt.plot([0, 1, 2], X_train[0].flatten(), 'bo-', label=\"input sequence\")\n",
    "        plt.plot([3], Y_train[0], 'ro', label=\"target\")\n",
    "        plt.xlim(-0.5, 4.5)\n",
    "        plt.ylim(-1.1, 1.1)\n",
    "        plt.legend()\n",
    "        plt.title(\"First sample sequence\")\n",
    "\n",
    "\n",
    "        plt.subplot(212)\n",
    "        plt.plot([1, 2, 3], X_train[1].flatten(), 'bo-', label=\"input sequence\")\n",
    "        plt.plot([4], Y_train[1], 'ro', label=\"target\")\n",
    "        plt.xlim(-0.5, 4.5)\n",
    "        plt.ylim(-1.1, 1.1)\n",
    "        plt.legend()\n",
    "        plt.title(\"Second sample sequence\")\n",
    "        plt.tight_layout()\n",
    "        plt.show()\n",
    "\n",
    "    return (X_train,Y_train)\n",
    "\n",
    "\n",
    "if __name__ == '__main__':\n",
    "    make_data(True)\n"
   ]
  }
 ],
 "metadata": {
  "kernelspec": {
   "display_name": "Python 3",
   "language": "python",
   "name": "python3"
  },
  "language_info": {
   "codemirror_mode": {
    "name": "ipython",
    "version": 3
   },
   "file_extension": ".py",
   "mimetype": "text/x-python",
   "name": "python",
   "nbconvert_exporter": "python",
   "pygments_lexer": "ipython3",
   "version": "3.7.3"
  }
 },
 "nbformat": 4,
 "nbformat_minor": 2
}
