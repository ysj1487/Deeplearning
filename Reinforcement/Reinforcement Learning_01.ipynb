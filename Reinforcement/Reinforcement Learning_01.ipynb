{
 "cells": [
  {
   "cell_type": "code",
   "execution_count": null,
   "metadata": {},
   "outputs": [
    {
     "name": "stdout",
     "output_type": "stream",
     "text": [
      "\n",
      "\u001b[41mS\u001b[0mFFF\n",
      "FHFH\n",
      "FFFH\n",
      "HFFG\n"
     ]
    }
   ],
   "source": [
    "import gym\n",
    "from gym.envs.registration import register\n",
    "import readchar # pip install readchar\n",
    "\n",
    "# 게임 프로그램입니다.  termial창에서 동작.\n",
    "\n",
    "LEFT = 0\n",
    "DOWN = 1\n",
    "RIGHT = 2\n",
    "UP = 3\n",
    "\n",
    "arrow_keys = {\n",
    "    '\\x1b[A' : UP,\n",
    "    '\\x1b[B' : DOWN,\n",
    "    '\\x1b[C' : RIGHT,\n",
    "    '\\x1b[D' : LEFT\n",
    "}\n",
    " \n",
    "register(\n",
    "    id='FrozenLake-v3',\n",
    "    entry_point='gym.envs.toy_text:FrozenLakeEnv',\n",
    "    kwargs={'map_name' : '4x4', 'is_slippery': False}\n",
    ") \n",
    "\n",
    "env = gym.make('FrozenLake-v3')\n",
    "env.render()\n",
    "\n",
    "while True:\n",
    "    key = readchar.readkey()\n",
    "    if key not in arrow_keys.keys():\n",
    "        print(\"Game aborted!\")\n",
    "        break\n",
    "\n",
    "    action = arrow_keys[key]\n",
    "    state, reward, done, info = env.step(action)\n",
    "    env.render()\n",
    "    print(\"State: \", state, \"Action: \", action, \"Reward: \", reward, \"Info: \", info)\n",
    "\n",
    "    if done:\n",
    "        print(\"Finished with reward\", reward)\n",
    "        break"
   ]
  },
  {
   "cell_type": "code",
   "execution_count": null,
   "metadata": {},
   "outputs": [],
   "source": []
  }
 ],
 "metadata": {
  "kernelspec": {
   "display_name": "Python 3",
   "language": "python",
   "name": "python3"
  },
  "language_info": {
   "codemirror_mode": {
    "name": "ipython",
    "version": 3
   },
   "file_extension": ".py",
   "mimetype": "text/x-python",
   "name": "python",
   "nbconvert_exporter": "python",
   "pygments_lexer": "ipython3",
   "version": "3.7.3"
  }
 },
 "nbformat": 4,
 "nbformat_minor": 2
}
